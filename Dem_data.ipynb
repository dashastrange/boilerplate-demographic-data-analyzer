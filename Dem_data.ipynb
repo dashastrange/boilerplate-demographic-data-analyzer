{
 "cells": [
  {
   "metadata": {},
   "cell_type": "markdown",
   "source": [
    "**You must use Pandas to answer the following questions:**\n",
    "\n",
    "1. [x] How many people of each race are represented in this dataset? This should be a Pandas series with race names as the index labels. (race column)\n",
    "2. [x] What is the average age of men?\n",
    "3. [x] What is the percentage of people who have a Bachelor's degree?\n",
    "4. [x] What percentage of people with advanced education (Bachelors, Masters, or Doctorate) make more than 50K?\n",
    "5. [ ] What percentage of people without advanced education make more than 50K?\n",
    "6. [ ] What is the minimum number of hours a person works per week?\n",
    "7. [ ] What percentage of the people who work the minimum number of hours per week have a salary of more than 50K?\n",
    "8. [ ] What country has the highest percentage of people that earn >50K and what is that percentage?\n",
    "9. [ ] Identify the most popular occupation for those who earn >50K in India."
   ],
   "id": "3bf1eb7c4de24a46"
  },
  {
   "metadata": {
    "ExecuteTime": {
     "end_time": "2025-05-27T19:39:51.789185Z",
     "start_time": "2025-05-27T19:39:51.228298Z"
    }
   },
   "cell_type": "code",
   "source": [
    "import pandas as pd\n",
    "\n",
    "adult_pop_df = pd.read_csv('adult.data.csv')\n"
   ],
   "id": "fd732d61f13b44e4",
   "outputs": [],
   "execution_count": 2
  },
  {
   "metadata": {
    "ExecuteTime": {
     "end_time": "2025-05-27T19:39:51.813Z",
     "start_time": "2025-05-27T19:39:51.804181Z"
    }
   },
   "cell_type": "code",
   "source": "adult_pop_df",
   "id": "197363c4858bd6c5",
   "outputs": [
    {
     "data": {
      "text/plain": [
       "       age         workclass  fnlwgt   education  education-num  \\\n",
       "0       39         State-gov   77516   Bachelors             13   \n",
       "1       50  Self-emp-not-inc   83311   Bachelors             13   \n",
       "2       38           Private  215646     HS-grad              9   \n",
       "3       53           Private  234721        11th              7   \n",
       "4       28           Private  338409   Bachelors             13   \n",
       "...    ...               ...     ...         ...            ...   \n",
       "32556   27           Private  257302  Assoc-acdm             12   \n",
       "32557   40           Private  154374     HS-grad              9   \n",
       "32558   58           Private  151910     HS-grad              9   \n",
       "32559   22           Private  201490     HS-grad              9   \n",
       "32560   52      Self-emp-inc  287927     HS-grad              9   \n",
       "\n",
       "           marital-status         occupation   relationship   race     sex  \\\n",
       "0           Never-married       Adm-clerical  Not-in-family  White    Male   \n",
       "1      Married-civ-spouse    Exec-managerial        Husband  White    Male   \n",
       "2                Divorced  Handlers-cleaners  Not-in-family  White    Male   \n",
       "3      Married-civ-spouse  Handlers-cleaners        Husband  Black    Male   \n",
       "4      Married-civ-spouse     Prof-specialty           Wife  Black  Female   \n",
       "...                   ...                ...            ...    ...     ...   \n",
       "32556  Married-civ-spouse       Tech-support           Wife  White  Female   \n",
       "32557  Married-civ-spouse  Machine-op-inspct        Husband  White    Male   \n",
       "32558             Widowed       Adm-clerical      Unmarried  White  Female   \n",
       "32559       Never-married       Adm-clerical      Own-child  White    Male   \n",
       "32560  Married-civ-spouse    Exec-managerial           Wife  White  Female   \n",
       "\n",
       "       capital-gain  capital-loss  hours-per-week native-country salary  \n",
       "0              2174             0              40  United-States  <=50K  \n",
       "1                 0             0              13  United-States  <=50K  \n",
       "2                 0             0              40  United-States  <=50K  \n",
       "3                 0             0              40  United-States  <=50K  \n",
       "4                 0             0              40           Cuba  <=50K  \n",
       "...             ...           ...             ...            ...    ...  \n",
       "32556             0             0              38  United-States  <=50K  \n",
       "32557             0             0              40  United-States   >50K  \n",
       "32558             0             0              40  United-States  <=50K  \n",
       "32559             0             0              20  United-States  <=50K  \n",
       "32560         15024             0              40  United-States   >50K  \n",
       "\n",
       "[32561 rows x 15 columns]"
      ],
      "text/html": [
       "<div>\n",
       "<style scoped>\n",
       "    .dataframe tbody tr th:only-of-type {\n",
       "        vertical-align: middle;\n",
       "    }\n",
       "\n",
       "    .dataframe tbody tr th {\n",
       "        vertical-align: top;\n",
       "    }\n",
       "\n",
       "    .dataframe thead th {\n",
       "        text-align: right;\n",
       "    }\n",
       "</style>\n",
       "<table border=\"1\" class=\"dataframe\">\n",
       "  <thead>\n",
       "    <tr style=\"text-align: right;\">\n",
       "      <th></th>\n",
       "      <th>age</th>\n",
       "      <th>workclass</th>\n",
       "      <th>fnlwgt</th>\n",
       "      <th>education</th>\n",
       "      <th>education-num</th>\n",
       "      <th>marital-status</th>\n",
       "      <th>occupation</th>\n",
       "      <th>relationship</th>\n",
       "      <th>race</th>\n",
       "      <th>sex</th>\n",
       "      <th>capital-gain</th>\n",
       "      <th>capital-loss</th>\n",
       "      <th>hours-per-week</th>\n",
       "      <th>native-country</th>\n",
       "      <th>salary</th>\n",
       "    </tr>\n",
       "  </thead>\n",
       "  <tbody>\n",
       "    <tr>\n",
       "      <th>0</th>\n",
       "      <td>39</td>\n",
       "      <td>State-gov</td>\n",
       "      <td>77516</td>\n",
       "      <td>Bachelors</td>\n",
       "      <td>13</td>\n",
       "      <td>Never-married</td>\n",
       "      <td>Adm-clerical</td>\n",
       "      <td>Not-in-family</td>\n",
       "      <td>White</td>\n",
       "      <td>Male</td>\n",
       "      <td>2174</td>\n",
       "      <td>0</td>\n",
       "      <td>40</td>\n",
       "      <td>United-States</td>\n",
       "      <td>&lt;=50K</td>\n",
       "    </tr>\n",
       "    <tr>\n",
       "      <th>1</th>\n",
       "      <td>50</td>\n",
       "      <td>Self-emp-not-inc</td>\n",
       "      <td>83311</td>\n",
       "      <td>Bachelors</td>\n",
       "      <td>13</td>\n",
       "      <td>Married-civ-spouse</td>\n",
       "      <td>Exec-managerial</td>\n",
       "      <td>Husband</td>\n",
       "      <td>White</td>\n",
       "      <td>Male</td>\n",
       "      <td>0</td>\n",
       "      <td>0</td>\n",
       "      <td>13</td>\n",
       "      <td>United-States</td>\n",
       "      <td>&lt;=50K</td>\n",
       "    </tr>\n",
       "    <tr>\n",
       "      <th>2</th>\n",
       "      <td>38</td>\n",
       "      <td>Private</td>\n",
       "      <td>215646</td>\n",
       "      <td>HS-grad</td>\n",
       "      <td>9</td>\n",
       "      <td>Divorced</td>\n",
       "      <td>Handlers-cleaners</td>\n",
       "      <td>Not-in-family</td>\n",
       "      <td>White</td>\n",
       "      <td>Male</td>\n",
       "      <td>0</td>\n",
       "      <td>0</td>\n",
       "      <td>40</td>\n",
       "      <td>United-States</td>\n",
       "      <td>&lt;=50K</td>\n",
       "    </tr>\n",
       "    <tr>\n",
       "      <th>3</th>\n",
       "      <td>53</td>\n",
       "      <td>Private</td>\n",
       "      <td>234721</td>\n",
       "      <td>11th</td>\n",
       "      <td>7</td>\n",
       "      <td>Married-civ-spouse</td>\n",
       "      <td>Handlers-cleaners</td>\n",
       "      <td>Husband</td>\n",
       "      <td>Black</td>\n",
       "      <td>Male</td>\n",
       "      <td>0</td>\n",
       "      <td>0</td>\n",
       "      <td>40</td>\n",
       "      <td>United-States</td>\n",
       "      <td>&lt;=50K</td>\n",
       "    </tr>\n",
       "    <tr>\n",
       "      <th>4</th>\n",
       "      <td>28</td>\n",
       "      <td>Private</td>\n",
       "      <td>338409</td>\n",
       "      <td>Bachelors</td>\n",
       "      <td>13</td>\n",
       "      <td>Married-civ-spouse</td>\n",
       "      <td>Prof-specialty</td>\n",
       "      <td>Wife</td>\n",
       "      <td>Black</td>\n",
       "      <td>Female</td>\n",
       "      <td>0</td>\n",
       "      <td>0</td>\n",
       "      <td>40</td>\n",
       "      <td>Cuba</td>\n",
       "      <td>&lt;=50K</td>\n",
       "    </tr>\n",
       "    <tr>\n",
       "      <th>...</th>\n",
       "      <td>...</td>\n",
       "      <td>...</td>\n",
       "      <td>...</td>\n",
       "      <td>...</td>\n",
       "      <td>...</td>\n",
       "      <td>...</td>\n",
       "      <td>...</td>\n",
       "      <td>...</td>\n",
       "      <td>...</td>\n",
       "      <td>...</td>\n",
       "      <td>...</td>\n",
       "      <td>...</td>\n",
       "      <td>...</td>\n",
       "      <td>...</td>\n",
       "      <td>...</td>\n",
       "    </tr>\n",
       "    <tr>\n",
       "      <th>32556</th>\n",
       "      <td>27</td>\n",
       "      <td>Private</td>\n",
       "      <td>257302</td>\n",
       "      <td>Assoc-acdm</td>\n",
       "      <td>12</td>\n",
       "      <td>Married-civ-spouse</td>\n",
       "      <td>Tech-support</td>\n",
       "      <td>Wife</td>\n",
       "      <td>White</td>\n",
       "      <td>Female</td>\n",
       "      <td>0</td>\n",
       "      <td>0</td>\n",
       "      <td>38</td>\n",
       "      <td>United-States</td>\n",
       "      <td>&lt;=50K</td>\n",
       "    </tr>\n",
       "    <tr>\n",
       "      <th>32557</th>\n",
       "      <td>40</td>\n",
       "      <td>Private</td>\n",
       "      <td>154374</td>\n",
       "      <td>HS-grad</td>\n",
       "      <td>9</td>\n",
       "      <td>Married-civ-spouse</td>\n",
       "      <td>Machine-op-inspct</td>\n",
       "      <td>Husband</td>\n",
       "      <td>White</td>\n",
       "      <td>Male</td>\n",
       "      <td>0</td>\n",
       "      <td>0</td>\n",
       "      <td>40</td>\n",
       "      <td>United-States</td>\n",
       "      <td>&gt;50K</td>\n",
       "    </tr>\n",
       "    <tr>\n",
       "      <th>32558</th>\n",
       "      <td>58</td>\n",
       "      <td>Private</td>\n",
       "      <td>151910</td>\n",
       "      <td>HS-grad</td>\n",
       "      <td>9</td>\n",
       "      <td>Widowed</td>\n",
       "      <td>Adm-clerical</td>\n",
       "      <td>Unmarried</td>\n",
       "      <td>White</td>\n",
       "      <td>Female</td>\n",
       "      <td>0</td>\n",
       "      <td>0</td>\n",
       "      <td>40</td>\n",
       "      <td>United-States</td>\n",
       "      <td>&lt;=50K</td>\n",
       "    </tr>\n",
       "    <tr>\n",
       "      <th>32559</th>\n",
       "      <td>22</td>\n",
       "      <td>Private</td>\n",
       "      <td>201490</td>\n",
       "      <td>HS-grad</td>\n",
       "      <td>9</td>\n",
       "      <td>Never-married</td>\n",
       "      <td>Adm-clerical</td>\n",
       "      <td>Own-child</td>\n",
       "      <td>White</td>\n",
       "      <td>Male</td>\n",
       "      <td>0</td>\n",
       "      <td>0</td>\n",
       "      <td>20</td>\n",
       "      <td>United-States</td>\n",
       "      <td>&lt;=50K</td>\n",
       "    </tr>\n",
       "    <tr>\n",
       "      <th>32560</th>\n",
       "      <td>52</td>\n",
       "      <td>Self-emp-inc</td>\n",
       "      <td>287927</td>\n",
       "      <td>HS-grad</td>\n",
       "      <td>9</td>\n",
       "      <td>Married-civ-spouse</td>\n",
       "      <td>Exec-managerial</td>\n",
       "      <td>Wife</td>\n",
       "      <td>White</td>\n",
       "      <td>Female</td>\n",
       "      <td>15024</td>\n",
       "      <td>0</td>\n",
       "      <td>40</td>\n",
       "      <td>United-States</td>\n",
       "      <td>&gt;50K</td>\n",
       "    </tr>\n",
       "  </tbody>\n",
       "</table>\n",
       "<p>32561 rows × 15 columns</p>\n",
       "</div>"
      ]
     },
     "execution_count": 3,
     "metadata": {},
     "output_type": "execute_result"
    }
   ],
   "execution_count": 3
  },
  {
   "metadata": {
    "ExecuteTime": {
     "end_time": "2025-05-27T19:39:51.868147Z",
     "start_time": "2025-05-27T19:39:51.865063Z"
    }
   },
   "cell_type": "code",
   "source": "adult_pop_df.columns",
   "id": "acd4147371cc372c",
   "outputs": [
    {
     "data": {
      "text/plain": [
       "Index(['age', 'workclass', 'fnlwgt', 'education', 'education-num',\n",
       "       'marital-status', 'occupation', 'relationship', 'race', 'sex',\n",
       "       'capital-gain', 'capital-loss', 'hours-per-week', 'native-country',\n",
       "       'salary'],\n",
       "      dtype='object')"
      ]
     },
     "execution_count": 4,
     "metadata": {},
     "output_type": "execute_result"
    }
   ],
   "execution_count": 4
  },
  {
   "metadata": {},
   "cell_type": "markdown",
   "source": "How many people of each race are represented in this dataset? This should be a Pandas series with race names as the index labels. (race column)",
   "id": "b8592ef63aa5e484"
  },
  {
   "metadata": {
    "ExecuteTime": {
     "end_time": "2025-05-27T19:39:51.925455Z",
     "start_time": "2025-05-27T19:39:51.917622Z"
    }
   },
   "cell_type": "code",
   "source": "adult_pop_df['race'].value_counts()",
   "id": "b99c4f2e721adb2e",
   "outputs": [
    {
     "data": {
      "text/plain": [
       "race\n",
       "White                 27816\n",
       "Black                  3124\n",
       "Asian-Pac-Islander     1039\n",
       "Amer-Indian-Eskimo      311\n",
       "Other                   271\n",
       "Name: count, dtype: int64"
      ]
     },
     "execution_count": 5,
     "metadata": {},
     "output_type": "execute_result"
    }
   ],
   "execution_count": 5
  },
  {
   "metadata": {},
   "cell_type": "markdown",
   "source": "What is the average age of men?",
   "id": "4796cda2293c284b"
  },
  {
   "metadata": {
    "ExecuteTime": {
     "end_time": "2025-05-27T19:39:52.153254Z",
     "start_time": "2025-05-27T19:39:52.148900Z"
    }
   },
   "cell_type": "code",
   "source": "adult_pop_df[['age', 'sex']]",
   "id": "9af0ca10054b87cc",
   "outputs": [
    {
     "data": {
      "text/plain": [
       "       age     sex\n",
       "0       39    Male\n",
       "1       50    Male\n",
       "2       38    Male\n",
       "3       53    Male\n",
       "4       28  Female\n",
       "...    ...     ...\n",
       "32556   27  Female\n",
       "32557   40    Male\n",
       "32558   58  Female\n",
       "32559   22    Male\n",
       "32560   52  Female\n",
       "\n",
       "[32561 rows x 2 columns]"
      ],
      "text/html": [
       "<div>\n",
       "<style scoped>\n",
       "    .dataframe tbody tr th:only-of-type {\n",
       "        vertical-align: middle;\n",
       "    }\n",
       "\n",
       "    .dataframe tbody tr th {\n",
       "        vertical-align: top;\n",
       "    }\n",
       "\n",
       "    .dataframe thead th {\n",
       "        text-align: right;\n",
       "    }\n",
       "</style>\n",
       "<table border=\"1\" class=\"dataframe\">\n",
       "  <thead>\n",
       "    <tr style=\"text-align: right;\">\n",
       "      <th></th>\n",
       "      <th>age</th>\n",
       "      <th>sex</th>\n",
       "    </tr>\n",
       "  </thead>\n",
       "  <tbody>\n",
       "    <tr>\n",
       "      <th>0</th>\n",
       "      <td>39</td>\n",
       "      <td>Male</td>\n",
       "    </tr>\n",
       "    <tr>\n",
       "      <th>1</th>\n",
       "      <td>50</td>\n",
       "      <td>Male</td>\n",
       "    </tr>\n",
       "    <tr>\n",
       "      <th>2</th>\n",
       "      <td>38</td>\n",
       "      <td>Male</td>\n",
       "    </tr>\n",
       "    <tr>\n",
       "      <th>3</th>\n",
       "      <td>53</td>\n",
       "      <td>Male</td>\n",
       "    </tr>\n",
       "    <tr>\n",
       "      <th>4</th>\n",
       "      <td>28</td>\n",
       "      <td>Female</td>\n",
       "    </tr>\n",
       "    <tr>\n",
       "      <th>...</th>\n",
       "      <td>...</td>\n",
       "      <td>...</td>\n",
       "    </tr>\n",
       "    <tr>\n",
       "      <th>32556</th>\n",
       "      <td>27</td>\n",
       "      <td>Female</td>\n",
       "    </tr>\n",
       "    <tr>\n",
       "      <th>32557</th>\n",
       "      <td>40</td>\n",
       "      <td>Male</td>\n",
       "    </tr>\n",
       "    <tr>\n",
       "      <th>32558</th>\n",
       "      <td>58</td>\n",
       "      <td>Female</td>\n",
       "    </tr>\n",
       "    <tr>\n",
       "      <th>32559</th>\n",
       "      <td>22</td>\n",
       "      <td>Male</td>\n",
       "    </tr>\n",
       "    <tr>\n",
       "      <th>32560</th>\n",
       "      <td>52</td>\n",
       "      <td>Female</td>\n",
       "    </tr>\n",
       "  </tbody>\n",
       "</table>\n",
       "<p>32561 rows × 2 columns</p>\n",
       "</div>"
      ]
     },
     "execution_count": 6,
     "metadata": {},
     "output_type": "execute_result"
    }
   ],
   "execution_count": 6
  },
  {
   "metadata": {
    "ExecuteTime": {
     "end_time": "2025-05-27T19:39:52.220726Z",
     "start_time": "2025-05-27T19:39:52.216139Z"
    }
   },
   "cell_type": "code",
   "source": "male_age_series = adult_pop_df.loc[adult_pop_df['sex'] == 'Male', ['age']]",
   "id": "ded2a8593a017791",
   "outputs": [],
   "execution_count": 7
  },
  {
   "metadata": {
    "ExecuteTime": {
     "end_time": "2025-05-27T19:39:52.298868Z",
     "start_time": "2025-05-27T19:39:52.294244Z"
    }
   },
   "cell_type": "code",
   "source": "male_age_series.mean()",
   "id": "44e301bf0bd901b",
   "outputs": [
    {
     "data": {
      "text/plain": [
       "age    39.433547\n",
       "dtype: float64"
      ]
     },
     "execution_count": 8,
     "metadata": {},
     "output_type": "execute_result"
    }
   ],
   "execution_count": 8
  },
  {
   "metadata": {},
   "cell_type": "markdown",
   "source": "What is the percentage of people who have a Bachelor's degree?",
   "id": "8b947bb7c2424143"
  },
  {
   "metadata": {
    "ExecuteTime": {
     "end_time": "2025-05-27T19:39:52.379934Z",
     "start_time": "2025-05-27T19:39:52.376825Z"
    }
   },
   "cell_type": "code",
   "source": "adult_pop_df['education']",
   "id": "7b08ef0ef28c8a0d",
   "outputs": [
    {
     "data": {
      "text/plain": [
       "0         Bachelors\n",
       "1         Bachelors\n",
       "2           HS-grad\n",
       "3              11th\n",
       "4         Bachelors\n",
       "            ...    \n",
       "32556    Assoc-acdm\n",
       "32557       HS-grad\n",
       "32558       HS-grad\n",
       "32559       HS-grad\n",
       "32560       HS-grad\n",
       "Name: education, Length: 32561, dtype: object"
      ]
     },
     "execution_count": 9,
     "metadata": {},
     "output_type": "execute_result"
    }
   ],
   "execution_count": 9
  },
  {
   "metadata": {
    "ExecuteTime": {
     "end_time": "2025-05-27T19:39:52.481157Z",
     "start_time": "2025-05-27T19:39:52.476488Z"
    }
   },
   "cell_type": "code",
   "source": "bach_degree_count = adult_pop_df.loc[adult_pop_df['education'] == 'Bachelors', 'education'].count()",
   "id": "8b091402babe37b6",
   "outputs": [],
   "execution_count": 10
  },
  {
   "metadata": {
    "ExecuteTime": {
     "end_time": "2025-05-27T19:39:52.582642Z",
     "start_time": "2025-05-27T19:39:52.579584Z"
    }
   },
   "cell_type": "code",
   "source": "edu_count = adult_pop_df['education'].count()",
   "id": "5ba16821945e3a0d",
   "outputs": [],
   "execution_count": 11
  },
  {
   "metadata": {
    "ExecuteTime": {
     "end_time": "2025-05-27T19:39:52.662228Z",
     "start_time": "2025-05-27T19:39:52.660035Z"
    }
   },
   "cell_type": "code",
   "source": "percent_degree = (bach_degree_count/edu_count)*100",
   "id": "9a74c002e66ed839",
   "outputs": [],
   "execution_count": 12
  },
  {
   "metadata": {
    "ExecuteTime": {
     "end_time": "2025-05-27T19:39:52.714781Z",
     "start_time": "2025-05-27T19:39:52.711231Z"
    }
   },
   "cell_type": "code",
   "source": "percent_degree",
   "id": "7ef5e7f5b21c5e13",
   "outputs": [
    {
     "data": {
      "text/plain": [
       "np.float64(16.44605509658794)"
      ]
     },
     "execution_count": 13,
     "metadata": {},
     "output_type": "execute_result"
    }
   ],
   "execution_count": 13
  },
  {
   "metadata": {},
   "cell_type": "markdown",
   "source": "What percentage of people with advanced education (Bachelors, Masters, or Doctorate) make more than 50K?",
   "id": "d457288a8300399"
  },
  {
   "metadata": {
    "ExecuteTime": {
     "end_time": "2025-05-27T19:46:50.964269Z",
     "start_time": "2025-05-27T19:46:50.961415Z"
    }
   },
   "cell_type": "code",
   "source": "advanced_edu = ['Bachelors', 'Masters', 'Doctorate']",
   "id": "465b335f0de3cafd",
   "outputs": [],
   "execution_count": 21
  },
  {
   "metadata": {
    "ExecuteTime": {
     "end_time": "2025-05-27T19:47:17.884087Z",
     "start_time": "2025-05-27T19:47:17.877868Z"
    }
   },
   "cell_type": "code",
   "source": "advanced_edu_df = adult_pop_df[adult_pop_df['education'].isin(advanced_edu)]",
   "id": "df4ecfe97ee30e11",
   "outputs": [],
   "execution_count": 22
  },
  {
   "metadata": {
    "ExecuteTime": {
     "end_time": "2025-05-27T19:47:28.047855Z",
     "start_time": "2025-05-27T19:47:28.043467Z"
    }
   },
   "cell_type": "code",
   "source": "high_earners = advanced_edu_df[advanced_edu_df['salary'] == '>50K']",
   "id": "b4331ad5ba7024f8",
   "outputs": [],
   "execution_count": 23
  },
  {
   "metadata": {
    "ExecuteTime": {
     "end_time": "2025-05-27T19:48:00.967125Z",
     "start_time": "2025-05-27T19:48:00.964458Z"
    }
   },
   "cell_type": "code",
   "source": "percentage = (len(high_earners) / len(advanced_edu_df)) * 100",
   "id": "648840b512bfbeb6",
   "outputs": [],
   "execution_count": 25
  },
  {
   "metadata": {
    "ExecuteTime": {
     "end_time": "2025-05-27T19:51:03.240310Z",
     "start_time": "2025-05-27T19:51:03.235957Z"
    }
   },
   "cell_type": "code",
   "source": "percentage",
   "id": "73f5cc525bd1ad9",
   "outputs": [
    {
     "data": {
      "text/plain": [
       "46.535843011613935"
      ]
     },
     "execution_count": 26,
     "metadata": {},
     "output_type": "execute_result"
    }
   ],
   "execution_count": 26
  },
  {
   "metadata": {},
   "cell_type": "markdown",
   "source": "What percentage of people without advanced education make more than 50K?",
   "id": "2071af0f14dc67c"
  },
  {
   "metadata": {
    "ExecuteTime": {
     "end_time": "2025-05-27T19:52:20.551223Z",
     "start_time": "2025-05-27T19:52:20.548234Z"
    }
   },
   "cell_type": "code",
   "source": "non_advanced_edu = ['HS-grad', '11th', '9th']",
   "id": "1141f75c70992e2",
   "outputs": [],
   "execution_count": 27
  },
  {
   "metadata": {
    "ExecuteTime": {
     "end_time": "2025-05-27T19:53:02.751217Z",
     "start_time": "2025-05-27T19:53:02.745347Z"
    }
   },
   "cell_type": "code",
   "source": "non_adv_edu_df = adult_pop_df[adult_pop_df['education'].isin(non_advanced_edu)]",
   "id": "9a52248fbd86f004",
   "outputs": [],
   "execution_count": 28
  },
  {
   "metadata": {
    "ExecuteTime": {
     "end_time": "2025-05-27T19:53:20.819180Z",
     "start_time": "2025-05-27T19:53:20.814550Z"
    }
   },
   "cell_type": "code",
   "source": "another_high_earners = non_adv_edu_df[non_adv_edu_df['salary'] == '>50K']",
   "id": "93536b6ac5ff340",
   "outputs": [],
   "execution_count": 29
  },
  {
   "metadata": {
    "ExecuteTime": {
     "end_time": "2025-05-27T19:54:04.396463Z",
     "start_time": "2025-05-27T19:54:04.393727Z"
    }
   },
   "cell_type": "code",
   "source": "percentage_non_edu = (len(another_high_earners) / len(non_adv_edu_df)) * 100",
   "id": "9d0b6d3de7c62211",
   "outputs": [],
   "execution_count": 30
  },
  {
   "metadata": {
    "ExecuteTime": {
     "end_time": "2025-05-27T19:54:12.947642Z",
     "start_time": "2025-05-27T19:54:12.944369Z"
    }
   },
   "cell_type": "code",
   "source": "percentage_non_edu",
   "id": "8f7438ef53661832",
   "outputs": [
    {
     "data": {
      "text/plain": [
       "14.454470877768664"
      ]
     },
     "execution_count": 31,
     "metadata": {},
     "output_type": "execute_result"
    }
   ],
   "execution_count": 31
  }
 ],
 "metadata": {
  "kernelspec": {
   "display_name": "Python 3",
   "language": "python",
   "name": "python3"
  },
  "language_info": {
   "codemirror_mode": {
    "name": "ipython",
    "version": 2
   },
   "file_extension": ".py",
   "mimetype": "text/x-python",
   "name": "python",
   "nbconvert_exporter": "python",
   "pygments_lexer": "ipython2",
   "version": "2.7.6"
  }
 },
 "nbformat": 4,
 "nbformat_minor": 5
}
