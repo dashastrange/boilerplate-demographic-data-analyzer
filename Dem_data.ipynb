{
 "cells": [
  {
   "metadata": {},
   "cell_type": "markdown",
   "source": [
    "**You must use Pandas to answer the following questions:**\n",
    "\n",
    "1. [x] How many people of each race are represented in this dataset? This should be a Pandas series with race names as the index labels. (race column)\n",
    "2. [x] What is the average age of men?\n",
    "3. [x] What is the percentage of people who have a Bachelor's degree?\n",
    "4. [x] What percentage of people with advanced education (Bachelors, Masters, or Doctorate) make more than 50K?\n",
    "5. [x] What percentage of people without advanced education make more than 50K?\n",
    "6. [x] What is the minimum number of hours a person works per week?\n",
    "7. [x] What percentage of the people who work the minimum number of hours per week have a salary of more than 50K?\n",
    "8. [x] What country has the highest percentage of people that earn >50K and what is that percentage?\n",
    "9. [x] Identify the most popular occupation for those who earn >50K in India."
   ],
   "id": "3bf1eb7c4de24a46"
  },
  {
   "metadata": {
    "ExecuteTime": {
     "end_time": "2025-05-28T15:00:45.731779Z",
     "start_time": "2025-05-28T15:00:45.692469Z"
    }
   },
   "cell_type": "code",
   "source": [
    "import pandas as pd\n",
    "\n",
    "adult_pop_df = pd.read_csv('adult.data.csv')\n"
   ],
   "id": "fd732d61f13b44e4",
   "outputs": [],
   "execution_count": 51
  },
  {
   "metadata": {
    "ExecuteTime": {
     "end_time": "2025-05-28T14:58:13.893846Z",
     "start_time": "2025-05-28T14:58:13.884144Z"
    }
   },
   "cell_type": "code",
   "source": "adult_pop_df.head()",
   "id": "197363c4858bd6c5",
   "outputs": [
    {
     "data": {
      "text/plain": [
       "   age         workclass  fnlwgt  education  education-num  \\\n",
       "0   39         State-gov   77516  Bachelors             13   \n",
       "1   50  Self-emp-not-inc   83311  Bachelors             13   \n",
       "2   38           Private  215646    HS-grad              9   \n",
       "3   53           Private  234721       11th              7   \n",
       "4   28           Private  338409  Bachelors             13   \n",
       "\n",
       "       marital-status         occupation   relationship   race     sex  \\\n",
       "0       Never-married       Adm-clerical  Not-in-family  White    Male   \n",
       "1  Married-civ-spouse    Exec-managerial        Husband  White    Male   \n",
       "2            Divorced  Handlers-cleaners  Not-in-family  White    Male   \n",
       "3  Married-civ-spouse  Handlers-cleaners        Husband  Black    Male   \n",
       "4  Married-civ-spouse     Prof-specialty           Wife  Black  Female   \n",
       "\n",
       "   capital-gain  capital-loss  hours-per-week native-country salary  \n",
       "0          2174             0              40  United-States  <=50K  \n",
       "1             0             0              13  United-States  <=50K  \n",
       "2             0             0              40  United-States  <=50K  \n",
       "3             0             0              40  United-States  <=50K  \n",
       "4             0             0              40           Cuba  <=50K  "
      ],
      "text/html": [
       "<div>\n",
       "<style scoped>\n",
       "    .dataframe tbody tr th:only-of-type {\n",
       "        vertical-align: middle;\n",
       "    }\n",
       "\n",
       "    .dataframe tbody tr th {\n",
       "        vertical-align: top;\n",
       "    }\n",
       "\n",
       "    .dataframe thead th {\n",
       "        text-align: right;\n",
       "    }\n",
       "</style>\n",
       "<table border=\"1\" class=\"dataframe\">\n",
       "  <thead>\n",
       "    <tr style=\"text-align: right;\">\n",
       "      <th></th>\n",
       "      <th>age</th>\n",
       "      <th>workclass</th>\n",
       "      <th>fnlwgt</th>\n",
       "      <th>education</th>\n",
       "      <th>education-num</th>\n",
       "      <th>marital-status</th>\n",
       "      <th>occupation</th>\n",
       "      <th>relationship</th>\n",
       "      <th>race</th>\n",
       "      <th>sex</th>\n",
       "      <th>capital-gain</th>\n",
       "      <th>capital-loss</th>\n",
       "      <th>hours-per-week</th>\n",
       "      <th>native-country</th>\n",
       "      <th>salary</th>\n",
       "    </tr>\n",
       "  </thead>\n",
       "  <tbody>\n",
       "    <tr>\n",
       "      <th>0</th>\n",
       "      <td>39</td>\n",
       "      <td>State-gov</td>\n",
       "      <td>77516</td>\n",
       "      <td>Bachelors</td>\n",
       "      <td>13</td>\n",
       "      <td>Never-married</td>\n",
       "      <td>Adm-clerical</td>\n",
       "      <td>Not-in-family</td>\n",
       "      <td>White</td>\n",
       "      <td>Male</td>\n",
       "      <td>2174</td>\n",
       "      <td>0</td>\n",
       "      <td>40</td>\n",
       "      <td>United-States</td>\n",
       "      <td>&lt;=50K</td>\n",
       "    </tr>\n",
       "    <tr>\n",
       "      <th>1</th>\n",
       "      <td>50</td>\n",
       "      <td>Self-emp-not-inc</td>\n",
       "      <td>83311</td>\n",
       "      <td>Bachelors</td>\n",
       "      <td>13</td>\n",
       "      <td>Married-civ-spouse</td>\n",
       "      <td>Exec-managerial</td>\n",
       "      <td>Husband</td>\n",
       "      <td>White</td>\n",
       "      <td>Male</td>\n",
       "      <td>0</td>\n",
       "      <td>0</td>\n",
       "      <td>13</td>\n",
       "      <td>United-States</td>\n",
       "      <td>&lt;=50K</td>\n",
       "    </tr>\n",
       "    <tr>\n",
       "      <th>2</th>\n",
       "      <td>38</td>\n",
       "      <td>Private</td>\n",
       "      <td>215646</td>\n",
       "      <td>HS-grad</td>\n",
       "      <td>9</td>\n",
       "      <td>Divorced</td>\n",
       "      <td>Handlers-cleaners</td>\n",
       "      <td>Not-in-family</td>\n",
       "      <td>White</td>\n",
       "      <td>Male</td>\n",
       "      <td>0</td>\n",
       "      <td>0</td>\n",
       "      <td>40</td>\n",
       "      <td>United-States</td>\n",
       "      <td>&lt;=50K</td>\n",
       "    </tr>\n",
       "    <tr>\n",
       "      <th>3</th>\n",
       "      <td>53</td>\n",
       "      <td>Private</td>\n",
       "      <td>234721</td>\n",
       "      <td>11th</td>\n",
       "      <td>7</td>\n",
       "      <td>Married-civ-spouse</td>\n",
       "      <td>Handlers-cleaners</td>\n",
       "      <td>Husband</td>\n",
       "      <td>Black</td>\n",
       "      <td>Male</td>\n",
       "      <td>0</td>\n",
       "      <td>0</td>\n",
       "      <td>40</td>\n",
       "      <td>United-States</td>\n",
       "      <td>&lt;=50K</td>\n",
       "    </tr>\n",
       "    <tr>\n",
       "      <th>4</th>\n",
       "      <td>28</td>\n",
       "      <td>Private</td>\n",
       "      <td>338409</td>\n",
       "      <td>Bachelors</td>\n",
       "      <td>13</td>\n",
       "      <td>Married-civ-spouse</td>\n",
       "      <td>Prof-specialty</td>\n",
       "      <td>Wife</td>\n",
       "      <td>Black</td>\n",
       "      <td>Female</td>\n",
       "      <td>0</td>\n",
       "      <td>0</td>\n",
       "      <td>40</td>\n",
       "      <td>Cuba</td>\n",
       "      <td>&lt;=50K</td>\n",
       "    </tr>\n",
       "  </tbody>\n",
       "</table>\n",
       "</div>"
      ]
     },
     "execution_count": 2,
     "metadata": {},
     "output_type": "execute_result"
    }
   ],
   "execution_count": 2
  },
  {
   "metadata": {
    "ExecuteTime": {
     "end_time": "2025-05-28T14:58:13.993970Z",
     "start_time": "2025-05-28T14:58:13.991427Z"
    }
   },
   "cell_type": "code",
   "source": "adult_pop_df.columns",
   "id": "acd4147371cc372c",
   "outputs": [
    {
     "data": {
      "text/plain": [
       "Index(['age', 'workclass', 'fnlwgt', 'education', 'education-num',\n",
       "       'marital-status', 'occupation', 'relationship', 'race', 'sex',\n",
       "       'capital-gain', 'capital-loss', 'hours-per-week', 'native-country',\n",
       "       'salary'],\n",
       "      dtype='object')"
      ]
     },
     "execution_count": 3,
     "metadata": {},
     "output_type": "execute_result"
    }
   ],
   "execution_count": 3
  },
  {
   "metadata": {},
   "cell_type": "markdown",
   "source": "How many people of each race are represented in this dataset? This should be a Pandas series with race names as the index labels. (race column)",
   "id": "b8592ef63aa5e484"
  },
  {
   "metadata": {
    "ExecuteTime": {
     "end_time": "2025-05-28T14:58:14.250121Z",
     "start_time": "2025-05-28T14:58:14.245743Z"
    }
   },
   "cell_type": "code",
   "source": "adult_pop_df['race'].value_counts()",
   "id": "b99c4f2e721adb2e",
   "outputs": [
    {
     "data": {
      "text/plain": [
       "race\n",
       "White                 27816\n",
       "Black                  3124\n",
       "Asian-Pac-Islander     1039\n",
       "Amer-Indian-Eskimo      311\n",
       "Other                   271\n",
       "Name: count, dtype: int64"
      ]
     },
     "execution_count": 4,
     "metadata": {},
     "output_type": "execute_result"
    }
   ],
   "execution_count": 4
  },
  {
   "metadata": {},
   "cell_type": "markdown",
   "source": "What is the average age of men?",
   "id": "4796cda2293c284b"
  },
  {
   "metadata": {
    "ExecuteTime": {
     "end_time": "2025-05-28T14:58:14.509085Z",
     "start_time": "2025-05-28T14:58:14.496717Z"
    }
   },
   "cell_type": "code",
   "source": "adult_pop_df[['age', 'sex']]",
   "id": "9af0ca10054b87cc",
   "outputs": [
    {
     "data": {
      "text/plain": [
       "       age     sex\n",
       "0       39    Male\n",
       "1       50    Male\n",
       "2       38    Male\n",
       "3       53    Male\n",
       "4       28  Female\n",
       "...    ...     ...\n",
       "32556   27  Female\n",
       "32557   40    Male\n",
       "32558   58  Female\n",
       "32559   22    Male\n",
       "32560   52  Female\n",
       "\n",
       "[32561 rows x 2 columns]"
      ],
      "text/html": [
       "<div>\n",
       "<style scoped>\n",
       "    .dataframe tbody tr th:only-of-type {\n",
       "        vertical-align: middle;\n",
       "    }\n",
       "\n",
       "    .dataframe tbody tr th {\n",
       "        vertical-align: top;\n",
       "    }\n",
       "\n",
       "    .dataframe thead th {\n",
       "        text-align: right;\n",
       "    }\n",
       "</style>\n",
       "<table border=\"1\" class=\"dataframe\">\n",
       "  <thead>\n",
       "    <tr style=\"text-align: right;\">\n",
       "      <th></th>\n",
       "      <th>age</th>\n",
       "      <th>sex</th>\n",
       "    </tr>\n",
       "  </thead>\n",
       "  <tbody>\n",
       "    <tr>\n",
       "      <th>0</th>\n",
       "      <td>39</td>\n",
       "      <td>Male</td>\n",
       "    </tr>\n",
       "    <tr>\n",
       "      <th>1</th>\n",
       "      <td>50</td>\n",
       "      <td>Male</td>\n",
       "    </tr>\n",
       "    <tr>\n",
       "      <th>2</th>\n",
       "      <td>38</td>\n",
       "      <td>Male</td>\n",
       "    </tr>\n",
       "    <tr>\n",
       "      <th>3</th>\n",
       "      <td>53</td>\n",
       "      <td>Male</td>\n",
       "    </tr>\n",
       "    <tr>\n",
       "      <th>4</th>\n",
       "      <td>28</td>\n",
       "      <td>Female</td>\n",
       "    </tr>\n",
       "    <tr>\n",
       "      <th>...</th>\n",
       "      <td>...</td>\n",
       "      <td>...</td>\n",
       "    </tr>\n",
       "    <tr>\n",
       "      <th>32556</th>\n",
       "      <td>27</td>\n",
       "      <td>Female</td>\n",
       "    </tr>\n",
       "    <tr>\n",
       "      <th>32557</th>\n",
       "      <td>40</td>\n",
       "      <td>Male</td>\n",
       "    </tr>\n",
       "    <tr>\n",
       "      <th>32558</th>\n",
       "      <td>58</td>\n",
       "      <td>Female</td>\n",
       "    </tr>\n",
       "    <tr>\n",
       "      <th>32559</th>\n",
       "      <td>22</td>\n",
       "      <td>Male</td>\n",
       "    </tr>\n",
       "    <tr>\n",
       "      <th>32560</th>\n",
       "      <td>52</td>\n",
       "      <td>Female</td>\n",
       "    </tr>\n",
       "  </tbody>\n",
       "</table>\n",
       "<p>32561 rows × 2 columns</p>\n",
       "</div>"
      ]
     },
     "execution_count": 5,
     "metadata": {},
     "output_type": "execute_result"
    }
   ],
   "execution_count": 5
  },
  {
   "metadata": {
    "ExecuteTime": {
     "end_time": "2025-05-28T14:58:14.659728Z",
     "start_time": "2025-05-28T14:58:14.655665Z"
    }
   },
   "cell_type": "code",
   "source": "male_age_series = adult_pop_df.loc[adult_pop_df['sex'] == 'Male', ['age']]",
   "id": "ded2a8593a017791",
   "outputs": [],
   "execution_count": 6
  },
  {
   "metadata": {
    "ExecuteTime": {
     "end_time": "2025-05-28T14:58:14.801978Z",
     "start_time": "2025-05-28T14:58:14.799090Z"
    }
   },
   "cell_type": "code",
   "source": "round(male_age_series['age'].mean(), 1)",
   "id": "44e301bf0bd901b",
   "outputs": [
    {
     "data": {
      "text/plain": [
       "np.float64(39.4)"
      ]
     },
     "execution_count": 7,
     "metadata": {},
     "output_type": "execute_result"
    }
   ],
   "execution_count": 7
  },
  {
   "metadata": {},
   "cell_type": "markdown",
   "source": "What is the percentage of people who have a Bachelor's degree?",
   "id": "8b947bb7c2424143"
  },
  {
   "metadata": {
    "ExecuteTime": {
     "end_time": "2025-05-28T14:58:14.889342Z",
     "start_time": "2025-05-28T14:58:14.886072Z"
    }
   },
   "cell_type": "code",
   "source": "adult_pop_df['education']",
   "id": "7b08ef0ef28c8a0d",
   "outputs": [
    {
     "data": {
      "text/plain": [
       "0         Bachelors\n",
       "1         Bachelors\n",
       "2           HS-grad\n",
       "3              11th\n",
       "4         Bachelors\n",
       "            ...    \n",
       "32556    Assoc-acdm\n",
       "32557       HS-grad\n",
       "32558       HS-grad\n",
       "32559       HS-grad\n",
       "32560       HS-grad\n",
       "Name: education, Length: 32561, dtype: object"
      ]
     },
     "execution_count": 8,
     "metadata": {},
     "output_type": "execute_result"
    }
   ],
   "execution_count": 8
  },
  {
   "metadata": {
    "ExecuteTime": {
     "end_time": "2025-05-28T14:58:14.986577Z",
     "start_time": "2025-05-28T14:58:14.982766Z"
    }
   },
   "cell_type": "code",
   "source": "bach_degree_count = adult_pop_df.loc[adult_pop_df['education'] == 'Bachelors', 'education'].count()",
   "id": "8b091402babe37b6",
   "outputs": [],
   "execution_count": 9
  },
  {
   "metadata": {
    "ExecuteTime": {
     "end_time": "2025-05-28T14:58:15.078409Z",
     "start_time": "2025-05-28T14:58:15.075038Z"
    }
   },
   "cell_type": "code",
   "source": "edu_count = adult_pop_df['education'].count()",
   "id": "5ba16821945e3a0d",
   "outputs": [],
   "execution_count": 10
  },
  {
   "metadata": {
    "ExecuteTime": {
     "end_time": "2025-05-28T14:58:15.130875Z",
     "start_time": "2025-05-28T14:58:15.128846Z"
    }
   },
   "cell_type": "code",
   "source": "percent_degree = (bach_degree_count/edu_count)*100",
   "id": "9a74c002e66ed839",
   "outputs": [],
   "execution_count": 11
  },
  {
   "metadata": {
    "ExecuteTime": {
     "end_time": "2025-05-28T14:58:15.208331Z",
     "start_time": "2025-05-28T14:58:15.205936Z"
    }
   },
   "cell_type": "code",
   "source": "percent_degree",
   "id": "7ef5e7f5b21c5e13",
   "outputs": [
    {
     "data": {
      "text/plain": [
       "np.float64(16.44605509658794)"
      ]
     },
     "execution_count": 12,
     "metadata": {},
     "output_type": "execute_result"
    }
   ],
   "execution_count": 12
  },
  {
   "metadata": {},
   "cell_type": "markdown",
   "source": "What percentage of people with advanced education (Bachelors, Masters, or Doctorate) make more than 50K?",
   "id": "d457288a8300399"
  },
  {
   "metadata": {
    "ExecuteTime": {
     "end_time": "2025-05-28T14:58:15.304502Z",
     "start_time": "2025-05-28T14:58:15.300798Z"
    }
   },
   "cell_type": "code",
   "source": "advanced_edu = ['Bachelors', 'Masters', 'Doctorate']",
   "id": "465b335f0de3cafd",
   "outputs": [],
   "execution_count": 13
  },
  {
   "metadata": {
    "ExecuteTime": {
     "end_time": "2025-05-28T14:58:15.353689Z",
     "start_time": "2025-05-28T14:58:15.347367Z"
    }
   },
   "cell_type": "code",
   "source": "advanced_edu_df = adult_pop_df[adult_pop_df['education'].isin(advanced_edu)]",
   "id": "df4ecfe97ee30e11",
   "outputs": [],
   "execution_count": 14
  },
  {
   "metadata": {
    "ExecuteTime": {
     "end_time": "2025-05-28T14:58:15.394988Z",
     "start_time": "2025-05-28T14:58:15.390137Z"
    }
   },
   "cell_type": "code",
   "source": "high_earners = advanced_edu_df[advanced_edu_df['salary'] == '>50K']",
   "id": "b4331ad5ba7024f8",
   "outputs": [],
   "execution_count": 15
  },
  {
   "metadata": {
    "ExecuteTime": {
     "end_time": "2025-05-28T14:58:15.437171Z",
     "start_time": "2025-05-28T14:58:15.434441Z"
    }
   },
   "cell_type": "code",
   "source": "percentage = (len(high_earners) / len(advanced_edu_df)) * 100",
   "id": "648840b512bfbeb6",
   "outputs": [],
   "execution_count": 16
  },
  {
   "metadata": {
    "ExecuteTime": {
     "end_time": "2025-05-28T14:58:15.468048Z",
     "start_time": "2025-05-28T14:58:15.464826Z"
    }
   },
   "cell_type": "code",
   "source": "percentage",
   "id": "73f5cc525bd1ad9",
   "outputs": [
    {
     "data": {
      "text/plain": [
       "46.535843011613935"
      ]
     },
     "execution_count": 17,
     "metadata": {},
     "output_type": "execute_result"
    }
   ],
   "execution_count": 17
  },
  {
   "metadata": {},
   "cell_type": "markdown",
   "source": "What percentage of people without advanced education make more than 50K?",
   "id": "2071af0f14dc67c"
  },
  {
   "metadata": {
    "ExecuteTime": {
     "end_time": "2025-05-28T14:58:15.531318Z",
     "start_time": "2025-05-28T14:58:15.528376Z"
    }
   },
   "cell_type": "code",
   "source": "adult_pop_df['education'].drop_duplicates()\n",
   "id": "47fc11547c28b211",
   "outputs": [
    {
     "data": {
      "text/plain": [
       "0         Bachelors\n",
       "2           HS-grad\n",
       "3              11th\n",
       "5           Masters\n",
       "6               9th\n",
       "10     Some-college\n",
       "13       Assoc-acdm\n",
       "14        Assoc-voc\n",
       "15          7th-8th\n",
       "20        Doctorate\n",
       "52      Prof-school\n",
       "56          5th-6th\n",
       "77             10th\n",
       "160         1st-4th\n",
       "224       Preschool\n",
       "415            12th\n",
       "Name: education, dtype: object"
      ]
     },
     "execution_count": 18,
     "metadata": {},
     "output_type": "execute_result"
    }
   ],
   "execution_count": 18
  },
  {
   "metadata": {
    "ExecuteTime": {
     "end_time": "2025-05-28T14:58:15.597146Z",
     "start_time": "2025-05-28T14:58:15.594012Z"
    }
   },
   "cell_type": "code",
   "source": "non_advanced_edu = adult_pop_df['education'].drop_duplicates()",
   "id": "1141f75c70992e2",
   "outputs": [],
   "execution_count": 19
  },
  {
   "metadata": {
    "ExecuteTime": {
     "end_time": "2025-05-28T14:58:15.685043Z",
     "start_time": "2025-05-28T14:58:15.682478Z"
    }
   },
   "cell_type": "code",
   "source": "non_advanced_edu = non_advanced_edu[~non_advanced_edu.isin(['Bachelors', 'Masters', 'Doctorate'])]\n",
   "id": "f01d5ee90713dd89",
   "outputs": [],
   "execution_count": 20
  },
  {
   "metadata": {
    "ExecuteTime": {
     "end_time": "2025-05-28T14:58:15.748619Z",
     "start_time": "2025-05-28T14:58:15.744400Z"
    }
   },
   "cell_type": "code",
   "source": "non_adv_edu_df = adult_pop_df[adult_pop_df['education'].isin(non_advanced_edu)]",
   "id": "9a52248fbd86f004",
   "outputs": [],
   "execution_count": 21
  },
  {
   "metadata": {
    "ExecuteTime": {
     "end_time": "2025-05-28T14:58:15.814297Z",
     "start_time": "2025-05-28T14:58:15.810706Z"
    }
   },
   "cell_type": "code",
   "source": "another_high_earners = non_adv_edu_df[non_adv_edu_df['salary'] == '>50K']",
   "id": "93536b6ac5ff340",
   "outputs": [],
   "execution_count": 22
  },
  {
   "metadata": {
    "ExecuteTime": {
     "end_time": "2025-05-28T14:58:15.865945Z",
     "start_time": "2025-05-28T14:58:15.864121Z"
    }
   },
   "cell_type": "code",
   "source": "percentage_non_edu = round((len(another_high_earners) / len(non_adv_edu_df)) * 100, 1)",
   "id": "9d0b6d3de7c62211",
   "outputs": [],
   "execution_count": 23
  },
  {
   "metadata": {
    "ExecuteTime": {
     "end_time": "2025-05-28T14:58:15.911928Z",
     "start_time": "2025-05-28T14:58:15.909844Z"
    }
   },
   "cell_type": "code",
   "source": "percentage_non_edu",
   "id": "8f7438ef53661832",
   "outputs": [
    {
     "data": {
      "text/plain": [
       "17.4"
      ]
     },
     "execution_count": 24,
     "metadata": {},
     "output_type": "execute_result"
    }
   ],
   "execution_count": 24
  },
  {
   "metadata": {},
   "cell_type": "markdown",
   "source": "What is the minimum number of hours a person works per week?",
   "id": "5239212ab7ee2556"
  },
  {
   "metadata": {
    "ExecuteTime": {
     "end_time": "2025-05-28T14:58:15.990993Z",
     "start_time": "2025-05-28T14:58:15.987721Z"
    }
   },
   "cell_type": "code",
   "source": "min_hrs = min(adult_pop_df['hours-per-week'])",
   "id": "f84903e4ae56d719",
   "outputs": [],
   "execution_count": 25
  },
  {
   "metadata": {
    "ExecuteTime": {
     "end_time": "2025-05-28T14:58:16.052507Z",
     "start_time": "2025-05-28T14:58:16.049070Z"
    }
   },
   "cell_type": "code",
   "source": "min_hrs_work_df = adult_pop_df[adult_pop_df['hours-per-week'] == min_hrs]",
   "id": "fe489632050d22f8",
   "outputs": [],
   "execution_count": 26
  },
  {
   "metadata": {
    "ExecuteTime": {
     "end_time": "2025-05-28T14:58:16.125887Z",
     "start_time": "2025-05-28T14:58:16.119627Z"
    }
   },
   "cell_type": "code",
   "source": "min_hrs_work_df",
   "id": "b2859acc5938395e",
   "outputs": [
    {
     "data": {
      "text/plain": [
       "       age         workclass  fnlwgt     education  education-num  \\\n",
       "189     58         State-gov  109567     Doctorate             16   \n",
       "1036    66      Self-emp-inc  150726           9th              5   \n",
       "1262    69                 ?  195779     Assoc-voc             11   \n",
       "5590    78                 ?  363134       HS-grad              9   \n",
       "5632    45                 ?  189564       Masters             14   \n",
       "5766    62                 ?   97231  Some-college             10   \n",
       "5808    76                 ?  211574          10th              6   \n",
       "8447    67                 ?  244122     Assoc-voc             11   \n",
       "9147    75                 ?  260543          10th              6   \n",
       "11451   27           Private  147951       HS-grad              9   \n",
       "19337   72                 ?   76860       HS-grad              9   \n",
       "19750   23           Private   72887       HS-grad              9   \n",
       "20072   65                 ?   76043       HS-grad              9   \n",
       "20909   77  Self-emp-not-inc   71676  Some-college             10   \n",
       "22960   21           Private  184135       HS-grad              9   \n",
       "23536   69                 ?  320280  Some-college             10   \n",
       "24284   57  Self-emp-not-inc   56480       HS-grad              9   \n",
       "25078   74           Private  260669          10th              6   \n",
       "29752   69                 ?  117525    Assoc-acdm             12   \n",
       "32525   81                 ?  120478     Assoc-voc             11   \n",
       "\n",
       "           marital-status         occupation    relationship  \\\n",
       "189    Married-civ-spouse     Prof-specialty         Husband   \n",
       "1036   Married-civ-spouse    Exec-managerial         Husband   \n",
       "1262              Widowed                  ?   Not-in-family   \n",
       "5590              Widowed                  ?   Not-in-family   \n",
       "5632   Married-civ-spouse                  ?            Wife   \n",
       "5766   Married-civ-spouse                  ?            Wife   \n",
       "5808   Married-civ-spouse                  ?         Husband   \n",
       "8447              Widowed                  ?   Not-in-family   \n",
       "9147              Widowed                  ?  Other-relative   \n",
       "11451       Never-married  Machine-op-inspct  Other-relative   \n",
       "19337  Married-civ-spouse                  ?         Husband   \n",
       "19750       Never-married       Craft-repair       Own-child   \n",
       "20072  Married-civ-spouse                  ?         Husband   \n",
       "20909             Widowed       Adm-clerical   Not-in-family   \n",
       "22960       Never-married  Machine-op-inspct       Own-child   \n",
       "23536       Never-married                  ?   Not-in-family   \n",
       "24284  Married-civ-spouse    Exec-managerial         Husband   \n",
       "25078            Divorced      Other-service   Not-in-family   \n",
       "29752            Divorced                  ?       Unmarried   \n",
       "32525            Divorced                  ?       Unmarried   \n",
       "\n",
       "                     race     sex  capital-gain  capital-loss  hours-per-week  \\\n",
       "189                 White    Male             0             0               1   \n",
       "1036                White    Male          1409             0               1   \n",
       "1262                White  Female             0             0               1   \n",
       "5590                White  Female             0             0               1   \n",
       "5632                White  Female             0             0               1   \n",
       "5766                White  Female             0             0               1   \n",
       "5808                White    Male             0             0               1   \n",
       "8447                White  Female             0             0               1   \n",
       "9147   Asian-Pac-Islander  Female             0             0               1   \n",
       "11451               White    Male             0             0               1   \n",
       "19337  Asian-Pac-Islander    Male             0             0               1   \n",
       "19750  Asian-Pac-Islander    Male             0             0               1   \n",
       "20072               White    Male             0             0               1   \n",
       "20909               White  Female             0          1944               1   \n",
       "22960               Black    Male             0             0               1   \n",
       "23536               White    Male          1848             0               1   \n",
       "24284               White    Male             0             0               1   \n",
       "25078               White  Female             0             0               1   \n",
       "29752               White  Female             0             0               1   \n",
       "32525               White  Female             0             0               1   \n",
       "\n",
       "      native-country salary  \n",
       "189    United-States   >50K  \n",
       "1036               ?  <=50K  \n",
       "1262   United-States  <=50K  \n",
       "5590   United-States  <=50K  \n",
       "5632   United-States  <=50K  \n",
       "5766   United-States  <=50K  \n",
       "5808   United-States  <=50K  \n",
       "8447   United-States  <=50K  \n",
       "9147           China  <=50K  \n",
       "11451  United-States  <=50K  \n",
       "19337  United-States  <=50K  \n",
       "19750        Vietnam  <=50K  \n",
       "20072  United-States   >50K  \n",
       "20909  United-States  <=50K  \n",
       "22960  United-States  <=50K  \n",
       "23536  United-States  <=50K  \n",
       "24284  United-States  <=50K  \n",
       "25078  United-States  <=50K  \n",
       "29752  United-States  <=50K  \n",
       "32525              ?  <=50K  "
      ],
      "text/html": [
       "<div>\n",
       "<style scoped>\n",
       "    .dataframe tbody tr th:only-of-type {\n",
       "        vertical-align: middle;\n",
       "    }\n",
       "\n",
       "    .dataframe tbody tr th {\n",
       "        vertical-align: top;\n",
       "    }\n",
       "\n",
       "    .dataframe thead th {\n",
       "        text-align: right;\n",
       "    }\n",
       "</style>\n",
       "<table border=\"1\" class=\"dataframe\">\n",
       "  <thead>\n",
       "    <tr style=\"text-align: right;\">\n",
       "      <th></th>\n",
       "      <th>age</th>\n",
       "      <th>workclass</th>\n",
       "      <th>fnlwgt</th>\n",
       "      <th>education</th>\n",
       "      <th>education-num</th>\n",
       "      <th>marital-status</th>\n",
       "      <th>occupation</th>\n",
       "      <th>relationship</th>\n",
       "      <th>race</th>\n",
       "      <th>sex</th>\n",
       "      <th>capital-gain</th>\n",
       "      <th>capital-loss</th>\n",
       "      <th>hours-per-week</th>\n",
       "      <th>native-country</th>\n",
       "      <th>salary</th>\n",
       "    </tr>\n",
       "  </thead>\n",
       "  <tbody>\n",
       "    <tr>\n",
       "      <th>189</th>\n",
       "      <td>58</td>\n",
       "      <td>State-gov</td>\n",
       "      <td>109567</td>\n",
       "      <td>Doctorate</td>\n",
       "      <td>16</td>\n",
       "      <td>Married-civ-spouse</td>\n",
       "      <td>Prof-specialty</td>\n",
       "      <td>Husband</td>\n",
       "      <td>White</td>\n",
       "      <td>Male</td>\n",
       "      <td>0</td>\n",
       "      <td>0</td>\n",
       "      <td>1</td>\n",
       "      <td>United-States</td>\n",
       "      <td>&gt;50K</td>\n",
       "    </tr>\n",
       "    <tr>\n",
       "      <th>1036</th>\n",
       "      <td>66</td>\n",
       "      <td>Self-emp-inc</td>\n",
       "      <td>150726</td>\n",
       "      <td>9th</td>\n",
       "      <td>5</td>\n",
       "      <td>Married-civ-spouse</td>\n",
       "      <td>Exec-managerial</td>\n",
       "      <td>Husband</td>\n",
       "      <td>White</td>\n",
       "      <td>Male</td>\n",
       "      <td>1409</td>\n",
       "      <td>0</td>\n",
       "      <td>1</td>\n",
       "      <td>?</td>\n",
       "      <td>&lt;=50K</td>\n",
       "    </tr>\n",
       "    <tr>\n",
       "      <th>1262</th>\n",
       "      <td>69</td>\n",
       "      <td>?</td>\n",
       "      <td>195779</td>\n",
       "      <td>Assoc-voc</td>\n",
       "      <td>11</td>\n",
       "      <td>Widowed</td>\n",
       "      <td>?</td>\n",
       "      <td>Not-in-family</td>\n",
       "      <td>White</td>\n",
       "      <td>Female</td>\n",
       "      <td>0</td>\n",
       "      <td>0</td>\n",
       "      <td>1</td>\n",
       "      <td>United-States</td>\n",
       "      <td>&lt;=50K</td>\n",
       "    </tr>\n",
       "    <tr>\n",
       "      <th>5590</th>\n",
       "      <td>78</td>\n",
       "      <td>?</td>\n",
       "      <td>363134</td>\n",
       "      <td>HS-grad</td>\n",
       "      <td>9</td>\n",
       "      <td>Widowed</td>\n",
       "      <td>?</td>\n",
       "      <td>Not-in-family</td>\n",
       "      <td>White</td>\n",
       "      <td>Female</td>\n",
       "      <td>0</td>\n",
       "      <td>0</td>\n",
       "      <td>1</td>\n",
       "      <td>United-States</td>\n",
       "      <td>&lt;=50K</td>\n",
       "    </tr>\n",
       "    <tr>\n",
       "      <th>5632</th>\n",
       "      <td>45</td>\n",
       "      <td>?</td>\n",
       "      <td>189564</td>\n",
       "      <td>Masters</td>\n",
       "      <td>14</td>\n",
       "      <td>Married-civ-spouse</td>\n",
       "      <td>?</td>\n",
       "      <td>Wife</td>\n",
       "      <td>White</td>\n",
       "      <td>Female</td>\n",
       "      <td>0</td>\n",
       "      <td>0</td>\n",
       "      <td>1</td>\n",
       "      <td>United-States</td>\n",
       "      <td>&lt;=50K</td>\n",
       "    </tr>\n",
       "    <tr>\n",
       "      <th>5766</th>\n",
       "      <td>62</td>\n",
       "      <td>?</td>\n",
       "      <td>97231</td>\n",
       "      <td>Some-college</td>\n",
       "      <td>10</td>\n",
       "      <td>Married-civ-spouse</td>\n",
       "      <td>?</td>\n",
       "      <td>Wife</td>\n",
       "      <td>White</td>\n",
       "      <td>Female</td>\n",
       "      <td>0</td>\n",
       "      <td>0</td>\n",
       "      <td>1</td>\n",
       "      <td>United-States</td>\n",
       "      <td>&lt;=50K</td>\n",
       "    </tr>\n",
       "    <tr>\n",
       "      <th>5808</th>\n",
       "      <td>76</td>\n",
       "      <td>?</td>\n",
       "      <td>211574</td>\n",
       "      <td>10th</td>\n",
       "      <td>6</td>\n",
       "      <td>Married-civ-spouse</td>\n",
       "      <td>?</td>\n",
       "      <td>Husband</td>\n",
       "      <td>White</td>\n",
       "      <td>Male</td>\n",
       "      <td>0</td>\n",
       "      <td>0</td>\n",
       "      <td>1</td>\n",
       "      <td>United-States</td>\n",
       "      <td>&lt;=50K</td>\n",
       "    </tr>\n",
       "    <tr>\n",
       "      <th>8447</th>\n",
       "      <td>67</td>\n",
       "      <td>?</td>\n",
       "      <td>244122</td>\n",
       "      <td>Assoc-voc</td>\n",
       "      <td>11</td>\n",
       "      <td>Widowed</td>\n",
       "      <td>?</td>\n",
       "      <td>Not-in-family</td>\n",
       "      <td>White</td>\n",
       "      <td>Female</td>\n",
       "      <td>0</td>\n",
       "      <td>0</td>\n",
       "      <td>1</td>\n",
       "      <td>United-States</td>\n",
       "      <td>&lt;=50K</td>\n",
       "    </tr>\n",
       "    <tr>\n",
       "      <th>9147</th>\n",
       "      <td>75</td>\n",
       "      <td>?</td>\n",
       "      <td>260543</td>\n",
       "      <td>10th</td>\n",
       "      <td>6</td>\n",
       "      <td>Widowed</td>\n",
       "      <td>?</td>\n",
       "      <td>Other-relative</td>\n",
       "      <td>Asian-Pac-Islander</td>\n",
       "      <td>Female</td>\n",
       "      <td>0</td>\n",
       "      <td>0</td>\n",
       "      <td>1</td>\n",
       "      <td>China</td>\n",
       "      <td>&lt;=50K</td>\n",
       "    </tr>\n",
       "    <tr>\n",
       "      <th>11451</th>\n",
       "      <td>27</td>\n",
       "      <td>Private</td>\n",
       "      <td>147951</td>\n",
       "      <td>HS-grad</td>\n",
       "      <td>9</td>\n",
       "      <td>Never-married</td>\n",
       "      <td>Machine-op-inspct</td>\n",
       "      <td>Other-relative</td>\n",
       "      <td>White</td>\n",
       "      <td>Male</td>\n",
       "      <td>0</td>\n",
       "      <td>0</td>\n",
       "      <td>1</td>\n",
       "      <td>United-States</td>\n",
       "      <td>&lt;=50K</td>\n",
       "    </tr>\n",
       "    <tr>\n",
       "      <th>19337</th>\n",
       "      <td>72</td>\n",
       "      <td>?</td>\n",
       "      <td>76860</td>\n",
       "      <td>HS-grad</td>\n",
       "      <td>9</td>\n",
       "      <td>Married-civ-spouse</td>\n",
       "      <td>?</td>\n",
       "      <td>Husband</td>\n",
       "      <td>Asian-Pac-Islander</td>\n",
       "      <td>Male</td>\n",
       "      <td>0</td>\n",
       "      <td>0</td>\n",
       "      <td>1</td>\n",
       "      <td>United-States</td>\n",
       "      <td>&lt;=50K</td>\n",
       "    </tr>\n",
       "    <tr>\n",
       "      <th>19750</th>\n",
       "      <td>23</td>\n",
       "      <td>Private</td>\n",
       "      <td>72887</td>\n",
       "      <td>HS-grad</td>\n",
       "      <td>9</td>\n",
       "      <td>Never-married</td>\n",
       "      <td>Craft-repair</td>\n",
       "      <td>Own-child</td>\n",
       "      <td>Asian-Pac-Islander</td>\n",
       "      <td>Male</td>\n",
       "      <td>0</td>\n",
       "      <td>0</td>\n",
       "      <td>1</td>\n",
       "      <td>Vietnam</td>\n",
       "      <td>&lt;=50K</td>\n",
       "    </tr>\n",
       "    <tr>\n",
       "      <th>20072</th>\n",
       "      <td>65</td>\n",
       "      <td>?</td>\n",
       "      <td>76043</td>\n",
       "      <td>HS-grad</td>\n",
       "      <td>9</td>\n",
       "      <td>Married-civ-spouse</td>\n",
       "      <td>?</td>\n",
       "      <td>Husband</td>\n",
       "      <td>White</td>\n",
       "      <td>Male</td>\n",
       "      <td>0</td>\n",
       "      <td>0</td>\n",
       "      <td>1</td>\n",
       "      <td>United-States</td>\n",
       "      <td>&gt;50K</td>\n",
       "    </tr>\n",
       "    <tr>\n",
       "      <th>20909</th>\n",
       "      <td>77</td>\n",
       "      <td>Self-emp-not-inc</td>\n",
       "      <td>71676</td>\n",
       "      <td>Some-college</td>\n",
       "      <td>10</td>\n",
       "      <td>Widowed</td>\n",
       "      <td>Adm-clerical</td>\n",
       "      <td>Not-in-family</td>\n",
       "      <td>White</td>\n",
       "      <td>Female</td>\n",
       "      <td>0</td>\n",
       "      <td>1944</td>\n",
       "      <td>1</td>\n",
       "      <td>United-States</td>\n",
       "      <td>&lt;=50K</td>\n",
       "    </tr>\n",
       "    <tr>\n",
       "      <th>22960</th>\n",
       "      <td>21</td>\n",
       "      <td>Private</td>\n",
       "      <td>184135</td>\n",
       "      <td>HS-grad</td>\n",
       "      <td>9</td>\n",
       "      <td>Never-married</td>\n",
       "      <td>Machine-op-inspct</td>\n",
       "      <td>Own-child</td>\n",
       "      <td>Black</td>\n",
       "      <td>Male</td>\n",
       "      <td>0</td>\n",
       "      <td>0</td>\n",
       "      <td>1</td>\n",
       "      <td>United-States</td>\n",
       "      <td>&lt;=50K</td>\n",
       "    </tr>\n",
       "    <tr>\n",
       "      <th>23536</th>\n",
       "      <td>69</td>\n",
       "      <td>?</td>\n",
       "      <td>320280</td>\n",
       "      <td>Some-college</td>\n",
       "      <td>10</td>\n",
       "      <td>Never-married</td>\n",
       "      <td>?</td>\n",
       "      <td>Not-in-family</td>\n",
       "      <td>White</td>\n",
       "      <td>Male</td>\n",
       "      <td>1848</td>\n",
       "      <td>0</td>\n",
       "      <td>1</td>\n",
       "      <td>United-States</td>\n",
       "      <td>&lt;=50K</td>\n",
       "    </tr>\n",
       "    <tr>\n",
       "      <th>24284</th>\n",
       "      <td>57</td>\n",
       "      <td>Self-emp-not-inc</td>\n",
       "      <td>56480</td>\n",
       "      <td>HS-grad</td>\n",
       "      <td>9</td>\n",
       "      <td>Married-civ-spouse</td>\n",
       "      <td>Exec-managerial</td>\n",
       "      <td>Husband</td>\n",
       "      <td>White</td>\n",
       "      <td>Male</td>\n",
       "      <td>0</td>\n",
       "      <td>0</td>\n",
       "      <td>1</td>\n",
       "      <td>United-States</td>\n",
       "      <td>&lt;=50K</td>\n",
       "    </tr>\n",
       "    <tr>\n",
       "      <th>25078</th>\n",
       "      <td>74</td>\n",
       "      <td>Private</td>\n",
       "      <td>260669</td>\n",
       "      <td>10th</td>\n",
       "      <td>6</td>\n",
       "      <td>Divorced</td>\n",
       "      <td>Other-service</td>\n",
       "      <td>Not-in-family</td>\n",
       "      <td>White</td>\n",
       "      <td>Female</td>\n",
       "      <td>0</td>\n",
       "      <td>0</td>\n",
       "      <td>1</td>\n",
       "      <td>United-States</td>\n",
       "      <td>&lt;=50K</td>\n",
       "    </tr>\n",
       "    <tr>\n",
       "      <th>29752</th>\n",
       "      <td>69</td>\n",
       "      <td>?</td>\n",
       "      <td>117525</td>\n",
       "      <td>Assoc-acdm</td>\n",
       "      <td>12</td>\n",
       "      <td>Divorced</td>\n",
       "      <td>?</td>\n",
       "      <td>Unmarried</td>\n",
       "      <td>White</td>\n",
       "      <td>Female</td>\n",
       "      <td>0</td>\n",
       "      <td>0</td>\n",
       "      <td>1</td>\n",
       "      <td>United-States</td>\n",
       "      <td>&lt;=50K</td>\n",
       "    </tr>\n",
       "    <tr>\n",
       "      <th>32525</th>\n",
       "      <td>81</td>\n",
       "      <td>?</td>\n",
       "      <td>120478</td>\n",
       "      <td>Assoc-voc</td>\n",
       "      <td>11</td>\n",
       "      <td>Divorced</td>\n",
       "      <td>?</td>\n",
       "      <td>Unmarried</td>\n",
       "      <td>White</td>\n",
       "      <td>Female</td>\n",
       "      <td>0</td>\n",
       "      <td>0</td>\n",
       "      <td>1</td>\n",
       "      <td>?</td>\n",
       "      <td>&lt;=50K</td>\n",
       "    </tr>\n",
       "  </tbody>\n",
       "</table>\n",
       "</div>"
      ]
     },
     "execution_count": 27,
     "metadata": {},
     "output_type": "execute_result"
    }
   ],
   "execution_count": 27
  },
  {
   "metadata": {
    "ExecuteTime": {
     "end_time": "2025-05-28T14:58:16.230699Z",
     "start_time": "2025-05-28T14:58:16.226267Z"
    }
   },
   "cell_type": "code",
   "source": "min(adult_pop_df['hours-per-week'])",
   "id": "bc6371e2a4b1d717",
   "outputs": [
    {
     "data": {
      "text/plain": [
       "1"
      ]
     },
     "execution_count": 28,
     "metadata": {},
     "output_type": "execute_result"
    }
   ],
   "execution_count": 28
  },
  {
   "metadata": {
    "ExecuteTime": {
     "end_time": "2025-05-28T14:58:16.352537Z",
     "start_time": "2025-05-28T14:58:16.349559Z"
    }
   },
   "cell_type": "code",
   "source": "min_hrs_work_df = adult_pop_df[adult_pop_df['hours-per-week'] == min_hrs]\n",
   "id": "dba4269dc1e06c59",
   "outputs": [],
   "execution_count": 29
  },
  {
   "metadata": {},
   "cell_type": "markdown",
   "source": "What percentage of the people who work the minimum number of hours per week have a salary of more than 50K?",
   "id": "72cf19294a028d59"
  },
  {
   "metadata": {
    "ExecuteTime": {
     "end_time": "2025-05-28T14:58:16.447514Z",
     "start_time": "2025-05-28T14:58:16.445033Z"
    }
   },
   "cell_type": "code",
   "source": "min_for_50k = min_hrs_work_df[min_hrs_work_df['salary'] == '>50K']",
   "id": "58fe51f220a8efc5",
   "outputs": [],
   "execution_count": 30
  },
  {
   "metadata": {
    "ExecuteTime": {
     "end_time": "2025-05-28T14:58:16.498087Z",
     "start_time": "2025-05-28T14:58:16.493313Z"
    }
   },
   "cell_type": "code",
   "source": "min_for_50k",
   "id": "df1c20a8b329edfe",
   "outputs": [
    {
     "data": {
      "text/plain": [
       "       age  workclass  fnlwgt  education  education-num      marital-status  \\\n",
       "189     58  State-gov  109567  Doctorate             16  Married-civ-spouse   \n",
       "20072   65          ?   76043    HS-grad              9  Married-civ-spouse   \n",
       "\n",
       "           occupation relationship   race   sex  capital-gain  capital-loss  \\\n",
       "189    Prof-specialty      Husband  White  Male             0             0   \n",
       "20072               ?      Husband  White  Male             0             0   \n",
       "\n",
       "       hours-per-week native-country salary  \n",
       "189                 1  United-States   >50K  \n",
       "20072               1  United-States   >50K  "
      ],
      "text/html": [
       "<div>\n",
       "<style scoped>\n",
       "    .dataframe tbody tr th:only-of-type {\n",
       "        vertical-align: middle;\n",
       "    }\n",
       "\n",
       "    .dataframe tbody tr th {\n",
       "        vertical-align: top;\n",
       "    }\n",
       "\n",
       "    .dataframe thead th {\n",
       "        text-align: right;\n",
       "    }\n",
       "</style>\n",
       "<table border=\"1\" class=\"dataframe\">\n",
       "  <thead>\n",
       "    <tr style=\"text-align: right;\">\n",
       "      <th></th>\n",
       "      <th>age</th>\n",
       "      <th>workclass</th>\n",
       "      <th>fnlwgt</th>\n",
       "      <th>education</th>\n",
       "      <th>education-num</th>\n",
       "      <th>marital-status</th>\n",
       "      <th>occupation</th>\n",
       "      <th>relationship</th>\n",
       "      <th>race</th>\n",
       "      <th>sex</th>\n",
       "      <th>capital-gain</th>\n",
       "      <th>capital-loss</th>\n",
       "      <th>hours-per-week</th>\n",
       "      <th>native-country</th>\n",
       "      <th>salary</th>\n",
       "    </tr>\n",
       "  </thead>\n",
       "  <tbody>\n",
       "    <tr>\n",
       "      <th>189</th>\n",
       "      <td>58</td>\n",
       "      <td>State-gov</td>\n",
       "      <td>109567</td>\n",
       "      <td>Doctorate</td>\n",
       "      <td>16</td>\n",
       "      <td>Married-civ-spouse</td>\n",
       "      <td>Prof-specialty</td>\n",
       "      <td>Husband</td>\n",
       "      <td>White</td>\n",
       "      <td>Male</td>\n",
       "      <td>0</td>\n",
       "      <td>0</td>\n",
       "      <td>1</td>\n",
       "      <td>United-States</td>\n",
       "      <td>&gt;50K</td>\n",
       "    </tr>\n",
       "    <tr>\n",
       "      <th>20072</th>\n",
       "      <td>65</td>\n",
       "      <td>?</td>\n",
       "      <td>76043</td>\n",
       "      <td>HS-grad</td>\n",
       "      <td>9</td>\n",
       "      <td>Married-civ-spouse</td>\n",
       "      <td>?</td>\n",
       "      <td>Husband</td>\n",
       "      <td>White</td>\n",
       "      <td>Male</td>\n",
       "      <td>0</td>\n",
       "      <td>0</td>\n",
       "      <td>1</td>\n",
       "      <td>United-States</td>\n",
       "      <td>&gt;50K</td>\n",
       "    </tr>\n",
       "  </tbody>\n",
       "</table>\n",
       "</div>"
      ]
     },
     "execution_count": 31,
     "metadata": {},
     "output_type": "execute_result"
    }
   ],
   "execution_count": 31
  },
  {
   "metadata": {
    "ExecuteTime": {
     "end_time": "2025-05-28T14:58:16.663047Z",
     "start_time": "2025-05-28T14:58:16.660956Z"
    }
   },
   "cell_type": "code",
   "source": "percentage_50k_min_hrs = (len(min_for_50k) / len(min_hrs_work_df)) * 100",
   "id": "a33cc36990c647cb",
   "outputs": [],
   "execution_count": 32
  },
  {
   "metadata": {
    "ExecuteTime": {
     "end_time": "2025-05-28T14:58:16.771791Z",
     "start_time": "2025-05-28T14:58:16.768837Z"
    }
   },
   "cell_type": "code",
   "source": "percentage_50k_min_hrs",
   "id": "d75758397fd5f93e",
   "outputs": [
    {
     "data": {
      "text/plain": [
       "10.0"
      ]
     },
     "execution_count": 33,
     "metadata": {},
     "output_type": "execute_result"
    }
   ],
   "execution_count": 33
  },
  {
   "metadata": {},
   "cell_type": "markdown",
   "source": "What country has the highest percentage of people that earn >50K and what is that percentage?",
   "id": "9a4726f20672b0b"
  },
  {
   "metadata": {
    "ExecuteTime": {
     "end_time": "2025-05-28T14:58:16.915895Z",
     "start_time": "2025-05-28T14:58:16.910519Z"
    }
   },
   "cell_type": "code",
   "source": "all_high_earners = adult_pop_df.loc[adult_pop_df['salary'] == '>50K', ['native-country', 'salary']]",
   "id": "a4d716d3846cb0e8",
   "outputs": [],
   "execution_count": 34
  },
  {
   "metadata": {
    "ExecuteTime": {
     "end_time": "2025-05-28T14:58:16.976956Z",
     "start_time": "2025-05-28T14:58:16.974783Z"
    }
   },
   "cell_type": "code",
   "source": "all_high_earners_count = all_high_earners['native-country'].count()",
   "id": "58acd34655a9186b",
   "outputs": [],
   "execution_count": 35
  },
  {
   "metadata": {
    "ExecuteTime": {
     "end_time": "2025-05-28T14:58:17.033648Z",
     "start_time": "2025-05-28T14:58:17.031277Z"
    }
   },
   "cell_type": "code",
   "source": "countries_high_earning_df = all_high_earners[['native-country', 'salary']]",
   "id": "5f0b063dd9592327",
   "outputs": [],
   "execution_count": 36
  },
  {
   "metadata": {
    "ExecuteTime": {
     "end_time": "2025-05-28T14:58:17.080619Z",
     "start_time": "2025-05-28T14:58:17.078607Z"
    }
   },
   "cell_type": "code",
   "source": "high_earn_count = all_high_earners['salary'].value_counts()",
   "id": "fc7dcddeae72fca1",
   "outputs": [],
   "execution_count": 37
  },
  {
   "metadata": {
    "ExecuteTime": {
     "end_time": "2025-05-28T14:58:18.661447Z",
     "start_time": "2025-05-28T14:58:17.130583Z"
    }
   },
   "cell_type": "code",
   "source": [
    "for country in countries_high_earning_df['native-country']:\n",
    "    country_high_earners_count = countries_high_earning_df['native-country'].value_counts()\n"
   ],
   "id": "beba186b124449ed",
   "outputs": [],
   "execution_count": 38
  },
  {
   "metadata": {
    "ExecuteTime": {
     "end_time": "2025-05-28T14:58:18.679356Z",
     "start_time": "2025-05-28T14:58:18.676556Z"
    }
   },
   "cell_type": "code",
   "source": "country_all_people_count = adult_pop_df['native-country'].value_counts()",
   "id": "7d93769bc88205c4",
   "outputs": [],
   "execution_count": 39
  },
  {
   "metadata": {
    "ExecuteTime": {
     "end_time": "2025-05-28T14:58:18.730507Z",
     "start_time": "2025-05-28T14:58:18.726893Z"
    }
   },
   "cell_type": "code",
   "source": "country_high_earners_count.sort_values(ascending=False)",
   "id": "58ea2d6195bad548",
   "outputs": [
    {
     "data": {
      "text/plain": [
       "native-country\n",
       "United-States         7171\n",
       "?                      146\n",
       "Philippines             61\n",
       "Germany                 44\n",
       "India                   40\n",
       "Canada                  39\n",
       "Mexico                  33\n",
       "England                 30\n",
       "Italy                   25\n",
       "Cuba                    25\n",
       "Japan                   24\n",
       "Taiwan                  20\n",
       "China                   20\n",
       "Iran                    18\n",
       "South                   16\n",
       "Puerto-Rico             12\n",
       "Poland                  12\n",
       "France                  12\n",
       "Jamaica                 10\n",
       "El-Salvador              9\n",
       "Greece                   8\n",
       "Cambodia                 7\n",
       "Yugoslavia               6\n",
       "Hong                     6\n",
       "Ireland                  5\n",
       "Vietnam                  5\n",
       "Portugal                 4\n",
       "Haiti                    4\n",
       "Ecuador                  4\n",
       "Guatemala                3\n",
       "Scotland                 3\n",
       "Hungary                  3\n",
       "Thailand                 3\n",
       "Nicaragua                2\n",
       "Trinadad&Tobago          2\n",
       "Laos                     2\n",
       "Columbia                 2\n",
       "Dominican-Republic       2\n",
       "Peru                     2\n",
       "Honduras                 1\n",
       "Name: count, dtype: int64"
      ]
     },
     "execution_count": 40,
     "metadata": {},
     "output_type": "execute_result"
    }
   ],
   "execution_count": 40
  },
  {
   "metadata": {
    "ExecuteTime": {
     "end_time": "2025-05-28T14:58:18.812468Z",
     "start_time": "2025-05-28T14:58:18.810012Z"
    }
   },
   "cell_type": "code",
   "source": "percentage_50K_top_country = round((country_high_earners_count/country_all_people_count)*100, 1)",
   "id": "7a06aa41919720cc",
   "outputs": [],
   "execution_count": 41
  },
  {
   "metadata": {
    "ExecuteTime": {
     "end_time": "2025-05-28T14:58:18.888020Z",
     "start_time": "2025-05-28T14:58:18.883470Z"
    }
   },
   "cell_type": "code",
   "source": "percentage_50K_top_country.sort_values(ascending=False)",
   "id": "d90ef45673d908e0",
   "outputs": [
    {
     "data": {
      "text/plain": [
       "native-country\n",
       "Iran                          41.9\n",
       "France                        41.4\n",
       "India                         40.0\n",
       "Taiwan                        39.2\n",
       "Japan                         38.7\n",
       "Yugoslavia                    37.5\n",
       "Cambodia                      36.8\n",
       "Italy                         34.2\n",
       "England                       33.3\n",
       "Canada                        32.2\n",
       "Germany                       32.1\n",
       "Philippines                   30.8\n",
       "Hong                          30.0\n",
       "Greece                        27.6\n",
       "China                         26.7\n",
       "Cuba                          26.3\n",
       "Scotland                      25.0\n",
       "?                             25.0\n",
       "United-States                 24.6\n",
       "Hungary                       23.1\n",
       "Ireland                       20.8\n",
       "Poland                        20.0\n",
       "South                         20.0\n",
       "Thailand                      16.7\n",
       "Ecuador                       14.3\n",
       "Jamaica                       12.3\n",
       "Laos                          11.1\n",
       "Portugal                      10.8\n",
       "Puerto-Rico                   10.5\n",
       "Trinadad&Tobago               10.5\n",
       "Haiti                          9.1\n",
       "El-Salvador                    8.5\n",
       "Honduras                       7.7\n",
       "Vietnam                        7.5\n",
       "Peru                           6.5\n",
       "Nicaragua                      5.9\n",
       "Mexico                         5.1\n",
       "Guatemala                      4.7\n",
       "Columbia                       3.4\n",
       "Dominican-Republic             2.9\n",
       "Holand-Netherlands             NaN\n",
       "Outlying-US(Guam-USVI-etc)     NaN\n",
       "Name: count, dtype: float64"
      ]
     },
     "execution_count": 42,
     "metadata": {},
     "output_type": "execute_result"
    }
   ],
   "execution_count": 42
  },
  {
   "metadata": {
    "ExecuteTime": {
     "end_time": "2025-05-28T14:58:18.999064Z",
     "start_time": "2025-05-28T14:58:18.996011Z"
    }
   },
   "cell_type": "code",
   "source": "round(percentage_50K_top_country.sort_values(ascending=False).head(1), 1)",
   "id": "2e58a4d2f98eac20",
   "outputs": [
    {
     "data": {
      "text/plain": [
       "native-country\n",
       "Iran    41.9\n",
       "Name: count, dtype: float64"
      ]
     },
     "execution_count": 43,
     "metadata": {},
     "output_type": "execute_result"
    }
   ],
   "execution_count": 43
  },
  {
   "metadata": {
    "ExecuteTime": {
     "end_time": "2025-05-28T14:58:19.112862Z",
     "start_time": "2025-05-28T14:58:19.110543Z"
    }
   },
   "cell_type": "code",
   "source": "percentage_50K_top_country.sort_values(ascending=False).head(1).iloc[0]\n",
   "id": "5599dd30ef2ec51f",
   "outputs": [
    {
     "data": {
      "text/plain": [
       "np.float64(41.9)"
      ]
     },
     "execution_count": 44,
     "metadata": {},
     "output_type": "execute_result"
    }
   ],
   "execution_count": 44
  },
  {
   "metadata": {
    "ExecuteTime": {
     "end_time": "2025-05-28T14:58:19.281452Z",
     "start_time": "2025-05-28T14:58:19.278617Z"
    }
   },
   "cell_type": "code",
   "source": "percentage_50K_top_country.sort_values(ascending=False).index[0]",
   "id": "2791acdc544b2669",
   "outputs": [
    {
     "data": {
      "text/plain": [
       "'Iran'"
      ]
     },
     "execution_count": 45,
     "metadata": {},
     "output_type": "execute_result"
    }
   ],
   "execution_count": 45
  },
  {
   "metadata": {},
   "cell_type": "markdown",
   "source": "Identify the most popular occupation for those who earn >50K in India.",
   "id": "555ba4eef43e9538"
  },
  {
   "metadata": {
    "ExecuteTime": {
     "end_time": "2025-05-28T14:58:19.384540Z",
     "start_time": "2025-05-28T14:58:19.379918Z"
    }
   },
   "cell_type": "code",
   "source": "India_50k_occupation = adult_pop_df.loc[adult_pop_df['native-country'] == 'India', ['salary', 'occupation',]]",
   "id": "3d5ed7d34933d588",
   "outputs": [],
   "execution_count": 46
  },
  {
   "metadata": {
    "ExecuteTime": {
     "end_time": "2025-05-28T14:58:19.441916Z",
     "start_time": "2025-05-28T14:58:19.439877Z"
    }
   },
   "cell_type": "code",
   "source": "high_earners_India = India_50k_occupation.loc[India_50k_occupation['salary'] == '>50K']",
   "id": "1a39209219749e69",
   "outputs": [],
   "execution_count": 47
  },
  {
   "metadata": {
    "ExecuteTime": {
     "end_time": "2025-05-28T14:58:19.529047Z",
     "start_time": "2025-05-28T14:58:19.526072Z"
    }
   },
   "cell_type": "code",
   "source": [
    "for occupation in high_earners_India:\n",
    "    high_earners_occupations_count = high_earners_India['occupation'].value_counts()"
   ],
   "id": "2a471f09eb421cb2",
   "outputs": [],
   "execution_count": 48
  },
  {
   "metadata": {
    "ExecuteTime": {
     "end_time": "2025-05-28T14:58:19.592556Z",
     "start_time": "2025-05-28T14:58:19.590269Z"
    }
   },
   "cell_type": "code",
   "source": "top_occupation = high_earners_occupations_count.sort_values(ascending=False).head(1)",
   "id": "186efa99483c89e9",
   "outputs": [],
   "execution_count": 49
  },
  {
   "metadata": {
    "ExecuteTime": {
     "end_time": "2025-05-28T14:58:19.692132Z",
     "start_time": "2025-05-28T14:58:19.689228Z"
    }
   },
   "cell_type": "code",
   "source": "top_occupation.index[0]",
   "id": "b954991d07584b7c",
   "outputs": [
    {
     "data": {
      "text/plain": [
       "'Prof-specialty'"
      ]
     },
     "execution_count": 50,
     "metadata": {},
     "output_type": "execute_result"
    }
   ],
   "execution_count": 50
  },
  {
   "metadata": {
    "ExecuteTime": {
     "end_time": "2025-05-28T14:58:19.772956Z",
     "start_time": "2025-05-28T14:58:19.771610Z"
    }
   },
   "cell_type": "code",
   "source": "",
   "id": "2ca3b7260ca35623",
   "outputs": [],
   "execution_count": null
  }
 ],
 "metadata": {
  "kernelspec": {
   "display_name": "Python 3",
   "language": "python",
   "name": "python3"
  },
  "language_info": {
   "codemirror_mode": {
    "name": "ipython",
    "version": 2
   },
   "file_extension": ".py",
   "mimetype": "text/x-python",
   "name": "python",
   "nbconvert_exporter": "python",
   "pygments_lexer": "ipython2",
   "version": "2.7.6"
  }
 },
 "nbformat": 4,
 "nbformat_minor": 5
}
